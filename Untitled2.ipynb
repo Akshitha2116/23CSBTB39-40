{
  "nbformat": 4,
  "nbformat_minor": 0,
  "metadata": {
    "colab": {
      "provenance": [],
      "authorship_tag": "ABX9TyMWivwvbVbqKmPdOBrj2Xff",
      "include_colab_link": true
    },
    "kernelspec": {
      "name": "python3",
      "display_name": "Python 3"
    },
    "language_info": {
      "name": "python"
    }
  },
  "cells": [
    {
      "cell_type": "markdown",
      "metadata": {
        "id": "view-in-github",
        "colab_type": "text"
      },
      "source": [
        "<a href=\"https://colab.research.google.com/github/Akshitha2116/23CSBTB39-40/blob/main/Untitled2.ipynb\" target=\"_parent\"><img src=\"https://colab.research.google.com/assets/colab-badge.svg\" alt=\"Open In Colab\"/></a>"
      ]
    },
    {
      "cell_type": "code",
      "execution_count": 10,
      "metadata": {
        "colab": {
          "base_uri": "https://localhost:8080/"
        },
        "id": "T8hktwKtEfMR",
        "outputId": "47cd0f86-4f0d-465f-f60f-2407d6c1179c"
      },
      "outputs": [
        {
          "output_type": "stream",
          "name": "stdout",
          "text": [
            "[1, 2, 3, 4, 5]\n",
            "<class 'list'>\n",
            "[11, 12, 13, 14, 15]\n",
            "<class 'list'>\n",
            "[1 2 3 4 5]\n",
            "<class 'numpy.ndarray'>\n",
            "[11 12 13 14 15]\n",
            "<class 'numpy.ndarray'>\n",
            "ADDITION OF LISTS: [1, 2, 3, 4, 5, 11, 12, 13, 14, 15]\n",
            "SUBTRACTION OF LISTS: [-10 -10 -10 -10 -10]\n",
            "MULTIPLICATION OF LISTS: [11 24 39 56 75]\n",
            "DIVISION OF LISTS: [0.09090909 0.16666667 0.23076923 0.28571429 0.33333333]\n",
            "POWER OF LISTS: [          1        4096     1594323   268435456 30517578125]\n",
            "('monitor', 'mouse', 'keyboard')\n",
            "<class 'tuple'>\n",
            "(100, 200, 300)\n",
            "<class 'tuple'>\n",
            "SIN VALUE: [ 0.84147098  0.90929743  0.14112001 -0.7568025  -0.95892427]\n",
            "LOG VALUE: [0.         0.69314718 1.09861229 1.38629436 1.60943791]\n",
            "LOG2 VALUE: [0.         1.         1.5849625  2.         2.32192809]\n",
            "EXP VALUE: [  2.71828183   7.3890561   20.08553692  54.59815003 148.4131591 ]\n"
          ]
        }
      ],
      "source": [
        "#Part 1 - Implement Basic Data Structures using Numpy, Pandas\n",
        "import numpy as np\n",
        "#Lists\n",
        "#Arrays\n",
        "#type\n",
        "list1=[1,2,3,4,5]\n",
        "print(list1)\n",
        "print(type(list1))\n",
        "list2=[11,12,13,14,15]\n",
        "print(list2)\n",
        "print(type(list2))\n",
        "arr1=np.array(list1)\n",
        "print(arr1)\n",
        "print(type(arr1))\n",
        "arr2=np.array(list2)\n",
        "print(arr2)\n",
        "print(type(arr2))\n",
        "#mathematical operations\n",
        "Add=list1+list2\n",
        "print(\"ADDITION OF LISTS:\",Add)\n",
        "Sub=arr1-arr2\n",
        "print(\"SUBTRACTION OF LISTS:\",Sub)\n",
        "Multi=arr1*arr2\n",
        "print(\"MULTIPLICATION OF LISTS:\", Multi)\n",
        "Div=arr1/arr2\n",
        "print(\"DIVISION OF LISTS:\",Div)\n",
        "Power=arr1**arr2\n",
        "print(\"POWER OF LISTS:\",Power)\n",
        "#tuple\n",
        "tuple1=(\"monitor\",\"mouse\",\"keyboard\")\n",
        "print(tuple1)\n",
        "print(type(tuple1))\n",
        "tuple2=(100,200,300)\n",
        "print(tuple2)\n",
        "print(type(tuple2))\n",
        "#sin\n",
        "sin=np.sin(arr1)\n",
        "print(\"SIN VALUE:\",sin)\n",
        "#log\n",
        "log=np.log(arr1)\n",
        "print(\"LOG VALUE:\",log)\n",
        "#log2\n",
        "log2=np.log2(arr1)\n",
        "print(\"LOG2 VALUE:\",log2)\n",
        "#Exp\n",
        "exp=np.exp(arr1)\n",
        "print(\"EXP VALUE:\",exp)"
      ]
    }
  ]
}